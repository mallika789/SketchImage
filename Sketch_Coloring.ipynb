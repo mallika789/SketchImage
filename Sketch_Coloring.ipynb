{
 "cells": [
  {
   "cell_type": "code",
   "execution_count": null,
   "metadata": {},
   "outputs": [],
   "source": [
    "import numpy as np\n",
    "import cv2\n",
    "import sys\n",
    "from numba import jit\n",
    "import matplotlib\n",
    "import matplotlib.pyplot as plt"
   ]
  },
  {
   "cell_type": "code",
   "execution_count": null,
   "metadata": {},
   "outputs": [],
   "source": [
    "@jit\n",
    "def _thinningIteration(im, iter_):\n",
    "    M = np.zeros(im.shape, np.uint8)\n",
    "    h, w = im.shape\n",
    "    for i in range(1, h - 1):\n",
    "        for j in range(1, w - 1):\n",
    "            p2 = im[i - 1, j]\n",
    "            p3 = im[i - 1, j + 1]\n",
    "            p4 = im[i, j + 1]\n",
    "            p5 = im[i + 1, j + 1]\n",
    "            p6 = im[i + 1, j]\n",
    "            p7 = im[i + 1, j - 1]\n",
    "            p8 = im[i, j - 1]\n",
    "            p9 = im[i - 1, j - 1]\n",
    "            A = (p2 == 0 and p3 == 1) + (p3 == 0 and p4 == 1) + \\\n",
    "                (p4 == 0 and p5 == 1) + (p5 == 0 and p6 == 1) + \\\n",
    "                (p6 == 0 and p7 == 1) + (p7 == 0 and p8 == 1) + \\\n",
    "                (p8 == 0 and p9 == 1) + (p9 == 0 and p2 == 1)\n",
    "            B = p2 + p3 + p4 + p5 + p6 + p7 + p8 + p9\n",
    "            m1 = (p2 * p4 * p6) if (iter_ == 0) else (p2 * p4 * p8)\n",
    "            m2 = (p4 * p6 * p8) if (iter_ == 0) else (p2 * p6 * p8)\n",
    "            if A == 1 and B >= 2 and B <=6 and m1 == 0 and m2 == 0:\n",
    "                M[i, j] = 1    \n",
    "    M = ~M\n",
    "    return np.bitwise_and(np.uint8(im), np.uint8(M))"
   ]
  },
  {
   "cell_type": "code",
   "execution_count": null,
   "metadata": {},
   "outputs": [],
   "source": [
    "@jit\n",
    "def thinning(src):\n",
    "\tdst = src.copy()\n",
    "\tprev = np.zeros(src.shape[:2], np.uint8)\n",
    "\tdiff = None\n",
    "\n",
    "\twhile True:\n",
    "\t\tdst = _thinningIteration(dst, 0)\n",
    "\t\tdst = _thinningIteration(dst, 1)\n",
    "\t\tdiff = np.absolute(dst - prev)\n",
    "\t\tprev = dst.copy()\n",
    "\t\tif np.sum(diff) == 0:\n",
    "\t\t\tbreak\n",
    "\n",
    "\treturn dst * 255"
   ]
  },
  {
   "cell_type": "code",
   "execution_count": null,
   "metadata": {},
   "outputs": [],
   "source": [
    "if __name__ == \"__main__\":\n",
    "        src = cv2.imread(\"Desktop\\Sketch Fill\\sketchapp\\hp.bmp\")\n",
    "        if src.all() == None:\n",
    "            sys.exit()\n",
    "        bw = cv2.cvtColor(src, cv2.COLOR_BGR2GRAY)\n",
    "        _, bw2 = cv2.threshold(bw, 127, 255, cv2.THRESH_BINARY)\n",
    "        #bw2 = bw.copy() // 255\n",
    "        bw2 = thinning(bw2)\n",
    "        bw2 = bw2*255\n",
    "        cv2.imshow(\"src\", bw)\n",
    "        cv2.imshow(\"thinning\", bw2)\n",
    "        cv2.imwrite('thinning.jpg', bw2)\n",
    "        cv2.waitKey()\n",
    "        '''plt.imshow(bw2, cmap=plt.cm.gray)\n",
    "        plt.title('Thinning')\n",
    "        plt.axis('off')\n",
    "        plt.savefig('op1.jpg')\n",
    "        plt.show()'''"
   ]
  },
  {
   "cell_type": "code",
   "execution_count": null,
   "metadata": {},
   "outputs": [],
   "source": [
    "main = bw2\n",
    "row, col= main.shape"
   ]
  },
  {
   "cell_type": "code",
   "execution_count": null,
   "metadata": {},
   "outputs": [],
   "source": [
    "import copy\n",
    "#main = laplacian\n",
    "row, col= main.shape\n",
    "d = copy.deepcopy(main)\n",
    "for c in range(col):\n",
    "    r = 0\n",
    "    while r<row:\n",
    "        s = r\n",
    "        while d[r][c]==0:\n",
    "            d[r][c] = 255\n",
    "            r += 1\n",
    "        if s<r:\n",
    "            d[s+(r-s)//2][c]=0\n",
    "        r += 1\n",
    "#plt.imshow(d, \"gray\")\n",
    "\n",
    "e = copy.deepcopy(main)\n",
    "for r in range(row):\n",
    "    c = 0\n",
    "    while c<col:\n",
    "        s = c\n",
    "        while e[r][c]==0:\n",
    "            e[r][c] = 255\n",
    "            c += 1\n",
    "        if s<c:\n",
    "            e[r][s+(c-s)//2]=0\n",
    "        c += 1\n",
    "\n",
    "# import scipy.misc\n",
    "# scipy.misc.imsave('foo.jpg', d*e)\n",
    "for i in range(row):\n",
    "    for j in range(col):\n",
    "        main[i][j] = 0 if d[i][j]==0 or e[i][j]==0 else 255\n",
    "#main = d\n",
    "plt.imshow(main, \"gray\")\n",
    "plt.axis(\"off\")\n",
    "plt.savefig('3.jpg')"
   ]
  },
  {
   "cell_type": "code",
   "execution_count": null,
   "metadata": {},
   "outputs": [],
   "source": [
    "#cols\n",
    "main = np.insert(main, [0,row], 255, axis=1)\n",
    "main.shape"
   ]
  },
  {
   "cell_type": "code",
   "execution_count": null,
   "metadata": {},
   "outputs": [],
   "source": [
    "#rows\n",
    "main = np.insert(main, [0, row], [np.array([255 for i in range(col+2)])], axis=0)\n",
    "main.shape"
   ]
  },
  {
   "cell_type": "code",
   "execution_count": null,
   "metadata": {},
   "outputs": [],
   "source": [
    "def find_8_neighbors(main, pos_x, pos_y):\n",
    "    count = 0\n",
    "    for i in range(pos_x-1, pos_x+2):\n",
    "        for j in range(pos_y-1, pos_y+2):\n",
    "            if main[i][j] < 255:\n",
    "                count += 1                \n",
    "    return count"
   ]
  },
  {
   "cell_type": "code",
   "execution_count": null,
   "metadata": {},
   "outputs": [],
   "source": [
    "def find_4_neighbors(main, pos_x, pos_y):\n",
    "    count = 0\n",
    "    if(main[pos_x-1][pos_y] < 255): \n",
    "        count+=1\n",
    "    if(main[pos_x+1][pos_y] < 255): \n",
    "        count+=1\n",
    "    if(main[pos_x][pos_y-1] < 255): \n",
    "        count+=1\n",
    "    if(main[pos_x][pos_y+1] < 255): \n",
    "        count+=1\n",
    "    return count"
   ]
  },
  {
   "cell_type": "code",
   "execution_count": null,
   "metadata": {},
   "outputs": [],
   "source": [
    "def scancluster(image, pos_x, pos_y, cluster):\n",
    "    image[pos_x][pos_y] = 1\n",
    "    cluster.append((pos_x, pos_y, find_8_neighbors(image, pos_x, pos_y), find_4_neighbors(image, pos_x, pos_y)))\n",
    "    \n",
    "    for i in range(pos_x-1,pos_x+2):\n",
    "        for j in range(pos_y-1, pos_y+2):\n",
    "            if image[i][j] == 0:\n",
    "                scancluster(image, i, j, cluster)"
   ]
  },
  {
   "cell_type": "code",
   "execution_count": null,
   "metadata": {},
   "outputs": [],
   "source": [
    "def process(image, clusters):\n",
    "    n,m = image.shape\n",
    "    for i in range(1, n-1):\n",
    "        for j in range(1, m-1):\n",
    "            if image[i][j]==0:\n",
    "                cluster = []\n",
    "                scancluster(image, i, j, cluster)\n",
    "                clusters.append(cluster)       "
   ]
  },
  {
   "cell_type": "code",
   "execution_count": null,
   "metadata": {},
   "outputs": [],
   "source": [
    "clusters = []\n",
    "demo1 = copy.deepcopy(main)\n",
    "process(demo1, clusters)\n",
    "print(clusters)"
   ]
  },
  {
   "cell_type": "code",
   "execution_count": null,
   "metadata": {},
   "outputs": [],
   "source": [
    "endpoints = []\n",
    "for cluster in clusters:\n",
    "    cluster.sort(key = lambda x: (x[3], x[2]))\n",
    "    if len(cluster)>1:\n",
    "#         a = cluster[0][2]\n",
    "#         b = cluster[0][3]\n",
    "#         for p in cluster:\n",
    "#             if p[2]!=a and p[3]!=b:\n",
    "#                 break\n",
    "#             endpoints.append((p[0], p[1]))\n",
    "        for i in range(min(2,len(cluster))):    \n",
    "            endpoints.append((cluster[i][0], cluster[i][1]))"
   ]
  },
  {
   "cell_type": "code",
   "execution_count": null,
   "metadata": {},
   "outputs": [],
   "source": [
    "X, Y = [], []\n",
    "for pt in endpoints:\n",
    "    X.append(pt[1])\n",
    "    Y.append(pt[0])\n",
    "X = np.array(X)\n",
    "Y = np.array(Y)"
   ]
  },
  {
   "cell_type": "code",
   "execution_count": null,
   "metadata": {},
   "outputs": [],
   "source": [
    "len(clusters)"
   ]
  },
  {
   "cell_type": "code",
   "execution_count": null,
   "metadata": {},
   "outputs": [],
   "source": [
    "%matplotlib inline\n",
    "#plot image and plot dots on end points\n",
    "\n",
    "implot = plt.imshow(main, 'gray')\n",
    "plt.scatter(X, Y)\n",
    "plt.axis('off')\n",
    "# plt.show()\n",
    "plt.savefig('EndPoints.jpg')"
   ]
  },
  {
   "cell_type": "code",
   "execution_count": null,
   "metadata": {},
   "outputs": [],
   "source": [
    "plt.imshow(main, 'gray')\n",
    "row, col = main.shape\n",
    "#print(main.shape)\n",
    "total_points = []\n",
    "for i in range(row):\n",
    "    for j in range(col):\n",
    "        if main[i][j] == 0:\n",
    "            total_points.append((i,j))\n",
    "total_points.extend(endpoints)\n",
    "total_points = sorted(total_points, key=lambda x:(x[1],x[0]))"
   ]
  },
  {
   "cell_type": "code",
   "execution_count": null,
   "metadata": {},
   "outputs": [],
   "source": [
    "print(list(total_points))"
   ]
  },
  {
   "cell_type": "code",
   "execution_count": null,
   "metadata": {},
   "outputs": [],
   "source": [
    "plt.imshow(main,'gray')\n",
    "x, y = [], []\n",
    "for i in total_points:\n",
    "    x.append(i[1])\n",
    "    y.append(i[0])\n",
    "x = np.array(x)\n",
    "y = np.array(y)\n",
    "s = plt.scatter(x, y,s=15,color='black')\n",
    "# import imageio\n",
    "plt.axis('off')\n",
    "plt.savefig('Filled.jpg')"
   ]
  },
  {
   "cell_type": "code",
   "execution_count": null,
   "metadata": {},
   "outputs": [],
   "source": []
  }
 ],
 "metadata": {
  "kernelspec": {
   "display_name": "Python 3",
   "language": "python",
   "name": "python3"
  },
  "language_info": {
   "codemirror_mode": {
    "name": "ipython",
    "version": 3
   },
   "file_extension": ".py",
   "mimetype": "text/x-python",
   "name": "python",
   "nbconvert_exporter": "python",
   "pygments_lexer": "ipython3",
   "version": "3.6.4"
  }
 },
 "nbformat": 4,
 "nbformat_minor": 2
}
